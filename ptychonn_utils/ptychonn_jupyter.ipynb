{
 "cells": [
  {
   "cell_type": "code",
   "execution_count": 1,
   "id": "70f45e2b-9bdf-4c40-98f2-44deace02685",
   "metadata": {},
   "outputs": [],
   "source": [
    "import sys, os\n",
    "#sys.path.append('/projects/hp-ptycho/wjudge/ptychonn/ptychonn/')\n",
    "from network_utils import *\n",
    "from tqdm import tqdm\n",
    "import torch"
   ]
  },
  {
   "cell_type": "code",
   "execution_count": 1,
   "id": "d3033b6e-5bfa-4d45-8b2e-f3f68796016b",
   "metadata": {},
   "outputs": [],
   "source": [
    "from ptychnn_jupyter import train_ptychonn, predict_ptychonn"
   ]
  },
  {
   "cell_type": "code",
   "execution_count": 2,
   "id": "40109685-a74b-419b-9888-f01ea93a9e53",
   "metadata": {},
   "outputs": [],
   "source": [
    "data_path = '/projects/hp-ptycho/wjudge/ptychonn/scan_dataml/'\n",
    "start_scan = 204\n",
    "end_scan = 206"
   ]
  },
  {
   "cell_type": "code",
   "execution_count": null,
   "id": "5a2dcc5b-a255-481e-96ac-ee6367b94bec",
   "metadata": {
    "tags": []
   },
   "outputs": [],
   "source": []
  },
  {
   "cell_type": "code",
   "execution_count": 3,
   "id": "4c2aa161-848c-4765-9025-14e22c72429c",
   "metadata": {
    "collapsed": true,
    "jupyter": {
     "outputs_hidden": true
    },
    "tags": []
   },
   "outputs": [
    {
     "name": "stderr",
     "output_type": "stream",
     "text": [
      "Epoch:   0%|                                                                                                                | 0/60 [00:00<?, ?it/s]\n",
      "Batches:   0%|                                                                                                              | 0/17 [00:00<?, ?it/s]\u001b[A\n",
      "Batches:   6%|██████                                                                                                | 1/17 [00:00<00:14,  1.11it/s]\u001b[A\n",
      "Batches:  18%|██████████████████                                                                                    | 3/17 [00:01<00:04,  3.40it/s]\u001b[A\n",
      "Batches:  29%|██████████████████████████████                                                                        | 5/17 [00:01<00:02,  5.78it/s]\u001b[A\n",
      "Batches:  41%|██████████████████████████████████████████                                                            | 7/17 [00:01<00:01,  8.17it/s]\u001b[A\n",
      "Batches:  53%|██████████████████████████████████████████████████████                                                | 9/17 [00:01<00:00, 10.39it/s]\u001b[A\n",
      "Batches:  65%|█████████████████████████████████████████████████████████████████▎                                   | 11/17 [00:01<00:00, 12.30it/s]\u001b[A\n",
      "Batches:  76%|█████████████████████████████████████████████████████████████████████████████▏                       | 13/17 [00:01<00:00, 13.90it/s]\u001b[A\n",
      "Batches:  88%|█████████████████████████████████████████████████████████████████████████████████████████            | 15/17 [00:01<00:00, 15.18it/s]\u001b[A\n",
      "Epoch:   2%|█▋                                                                                                      | 1/60 [00:02<02:45,  2.81s/it]\u001b[A\n",
      "Batches:   0%|                                                                                                              | 0/17 [00:00<?, ?it/s]\u001b[A\n",
      "Batches:   6%|██████                                                                                                | 1/17 [00:00<00:01,  8.78it/s]\u001b[A\n",
      "Batches:  18%|██████████████████                                                                                    | 3/17 [00:00<00:00, 14.42it/s]\u001b[A\n",
      "Batches:  29%|██████████████████████████████                                                                        | 5/17 [00:00<00:00, 16.38it/s]\u001b[A\n",
      "Batches:  41%|██████████████████████████████████████████                                                            | 7/17 [00:00<00:00, 17.18it/s]\u001b[A\n",
      "Batches:  53%|██████████████████████████████████████████████████████                                                | 9/17 [00:00<00:00, 17.73it/s]\u001b[A\n",
      "Batches:  65%|█████████████████████████████████████████████████████████████████▎                                   | 11/17 [00:00<00:00, 18.07it/s]\u001b[A\n",
      "Batches:  76%|█████████████████████████████████████████████████████████████████████████████▏                       | 13/17 [00:00<00:00, 18.25it/s]\u001b[A\n",
      "Batches:  88%|█████████████████████████████████████████████████████████████████████████████████████████            | 15/17 [00:00<00:00, 18.39it/s]\u001b[A\n",
      "Epoch:   3%|███▍                                                                                                    | 2/60 [00:04<02:19,  2.40s/it]\u001b[A\n",
      "Batches:   0%|                                                                                                              | 0/17 [00:00<?, ?it/s]\u001b[A\n",
      "Batches:  12%|████████████                                                                                          | 2/17 [00:00<00:01, 14.42it/s]\u001b[A\n",
      "Batches:  24%|████████████████████████                                                                              | 4/17 [00:00<00:00, 16.69it/s]\u001b[A\n",
      "Batches:  35%|████████████████████████████████████                                                                  | 6/17 [00:00<00:00, 17.55it/s]\u001b[A\n",
      "Batches:  47%|████████████████████████████████████████████████                                                      | 8/17 [00:00<00:00, 18.02it/s]\u001b[A\n",
      "Batches:  59%|███████████████████████████████████████████████████████████▍                                         | 10/17 [00:00<00:00, 18.29it/s]\u001b[A\n",
      "Batches:  71%|███████████████████████████████████████████████████████████████████████▎                             | 12/17 [00:00<00:00, 18.47it/s]\u001b[A\n",
      "Batches:  82%|███████████████████████████████████████████████████████████████████████████████████▏                 | 14/17 [00:00<00:00, 18.55it/s]\u001b[A\n",
      "Batches:  94%|███████████████████████████████████████████████████████████████████████████████████████████████      | 16/17 [00:00<00:00, 18.62it/s]\u001b[A\n",
      "Epoch:   5%|█████▏                                                                                                  | 3/60 [00:06<02:08,  2.25s/it]\u001b[A\n",
      "Batches:   0%|                                                                                                              | 0/17 [00:00<?, ?it/s]\u001b[A\n",
      "Batches:  12%|████████████                                                                                          | 2/17 [00:00<00:01, 14.69it/s]\u001b[A\n",
      "Batches:  24%|████████████████████████                                                                              | 4/17 [00:00<00:00, 16.81it/s]\u001b[A\n",
      "Batches:  35%|████████████████████████████████████                                                                  | 6/17 [00:00<00:00, 17.67it/s]\u001b[A\n",
      "Batches:  47%|████████████████████████████████████████████████                                                      | 8/17 [00:00<00:00, 18.04it/s]\u001b[A\n",
      "Batches:  59%|███████████████████████████████████████████████████████████▍                                         | 10/17 [00:00<00:00, 18.30it/s]\u001b[A\n",
      "Batches:  71%|███████████████████████████████████████████████████████████████████████▎                             | 12/17 [00:00<00:00, 18.43it/s]\u001b[A\n",
      "Batches:  82%|███████████████████████████████████████████████████████████████████████████████████▏                 | 14/17 [00:00<00:00, 18.53it/s]\u001b[A\n",
      "Batches:  94%|███████████████████████████████████████████████████████████████████████████████████████████████      | 16/17 [00:00<00:00, 18.58it/s]\u001b[A\n",
      "Epoch:   5%|█████▏                                                                                                  | 3/60 [00:08<02:45,  2.91s/it]\u001b[A\n"
     ]
    },
    {
     "ename": "KeyboardInterrupt",
     "evalue": "",
     "output_type": "error",
     "traceback": [
      "\u001b[0;31m---------------------------------------------------------------------------\u001b[0m",
      "\u001b[0;31mKeyboardInterrupt\u001b[0m                         Traceback (most recent call last)",
      "\u001b[0;32m/tmp/ipykernel_4220/1968874634.py\u001b[0m in \u001b[0;36m<module>\u001b[0;34m\u001b[0m\n\u001b[0;32m----> 1\u001b[0;31m train_ptychonn(data_path, start_scan, end_scan,\n\u001b[0m\u001b[1;32m      2\u001b[0m                    \u001b[0mtrain_lines\u001b[0m\u001b[0;34m=\u001b[0m\u001b[0;36m0.85\u001b[0m\u001b[0;34m,\u001b[0m \u001b[0mval_lines\u001b[0m\u001b[0;34m=\u001b[0m\u001b[0;36m0.15\u001b[0m\u001b[0;34m,\u001b[0m \u001b[0mepochs\u001b[0m\u001b[0;34m=\u001b[0m\u001b[0;36m60\u001b[0m\u001b[0;34m,\u001b[0m \u001b[0mgpu_select\u001b[0m\u001b[0;34m=\u001b[0m\u001b[0;34m'1'\u001b[0m\u001b[0;34m,\u001b[0m \u001b[0mbatch_size\u001b[0m\u001b[0;34m=\u001b[0m\u001b[0;36m64\u001b[0m\u001b[0;34m,\u001b[0m\u001b[0;34m\u001b[0m\u001b[0;34m\u001b[0m\u001b[0m\n\u001b[1;32m      3\u001b[0m                    \u001b[0mload_model_scan\u001b[0m\u001b[0;34m=\u001b[0m\u001b[0;34m-\u001b[0m\u001b[0;36m1\u001b[0m\u001b[0;34m,\u001b[0m \u001b[0msave_model_scan\u001b[0m\u001b[0;34m=\u001b[0m\u001b[0;34m-\u001b[0m\u001b[0;36m1\u001b[0m\u001b[0;34m,\u001b[0m \u001b[0mngpus\u001b[0m\u001b[0;34m=\u001b[0m\u001b[0;36m1\u001b[0m\u001b[0;34m,\u001b[0m \u001b[0mlr\u001b[0m\u001b[0;34m=\u001b[0m\u001b[0;36m1e-3\u001b[0m\u001b[0;34m,\u001b[0m \u001b[0mheight\u001b[0m\u001b[0;34m=\u001b[0m\u001b[0;36m128\u001b[0m\u001b[0;34m,\u001b[0m \u001b[0mwidth\u001b[0m\u001b[0;34m=\u001b[0m\u001b[0;36m128\u001b[0m\u001b[0;34m,\u001b[0m\u001b[0;34m\u001b[0m\u001b[0;34m\u001b[0m\u001b[0m\n\u001b[1;32m      4\u001b[0m                    mean_phsqr=0.02, verbose=False)\n",
      "\u001b[0;32m/lus/theta-fs0/projects/hp-ptycho/wjudge/ptychonn/ptychonn_utils/ptychonn_utils/ptychnn_jupyter.py\u001b[0m in \u001b[0;36mtrain_ptychonn\u001b[0;34m(data_path, start_scan, end_scan, train_lines, val_lines, epochs, gpu_select, batch_size, load_model_scan, save_model_scan, ngpus, lr, height, width, mean_phsqr, verbose)\u001b[0m\n\u001b[1;32m     62\u001b[0m \u001b[0;34m\u001b[0m\u001b[0m\n\u001b[1;32m     63\u001b[0m         \u001b[0;31m#Validation loop\u001b[0m\u001b[0;34m\u001b[0m\u001b[0;34m\u001b[0m\u001b[0;34m\u001b[0m\u001b[0m\n\u001b[0;32m---> 64\u001b[0;31m         \u001b[0mvalidate_nn\u001b[0m\u001b[0;34m(\u001b[0m\u001b[0mvalidloader\u001b[0m\u001b[0;34m,\u001b[0m \u001b[0mmetrics\u001b[0m\u001b[0;34m,\u001b[0m \u001b[0mdevice\u001b[0m\u001b[0;34m,\u001b[0m \u001b[0mmodel\u001b[0m\u001b[0;34m,\u001b[0m \u001b[0mcriterion\u001b[0m\u001b[0;34m,\u001b[0m \u001b[0mscheduler\u001b[0m\u001b[0;34m,\u001b[0m \u001b[0mMODEL_SAVE_PATH\u001b[0m\u001b[0;34m,\u001b[0m \u001b[0mNGPUS\u001b[0m\u001b[0;34m,\u001b[0m \u001b[0mverbose\u001b[0m\u001b[0;34m)\u001b[0m\u001b[0;34m\u001b[0m\u001b[0;34m\u001b[0m\u001b[0m\n\u001b[0m\u001b[1;32m     65\u001b[0m \u001b[0;34m\u001b[0m\u001b[0m\n\u001b[1;32m     66\u001b[0m         \u001b[0;32mif\u001b[0m \u001b[0mverbose\u001b[0m\u001b[0;34m:\u001b[0m\u001b[0;34m\u001b[0m\u001b[0;34m\u001b[0m\u001b[0m\n",
      "\u001b[0;32m/lus/theta-fs0/projects/hp-ptycho/wjudge/ptychonn/ptychonn_utils/ptychonn_utils/network_utils.py\u001b[0m in \u001b[0;36mvalidate_nn\u001b[0;34m(validloader, metrics, device, model, criterion, scheduler, MODEL_SAVE_PATH, NGPUS, verbose)\u001b[0m\n\u001b[1;32m    415\u001b[0m     \u001b[0mval_loss_amp\u001b[0m \u001b[0;34m=\u001b[0m \u001b[0;36m0.0\u001b[0m\u001b[0;34m\u001b[0m\u001b[0;34m\u001b[0m\u001b[0m\n\u001b[1;32m    416\u001b[0m     \u001b[0mval_loss_ph\u001b[0m \u001b[0;34m=\u001b[0m \u001b[0;36m0.0\u001b[0m\u001b[0;34m\u001b[0m\u001b[0;34m\u001b[0m\u001b[0m\n\u001b[0;32m--> 417\u001b[0;31m     \u001b[0;32mfor\u001b[0m \u001b[0mj\u001b[0m\u001b[0;34m,\u001b[0m \u001b[0;34m(\u001b[0m\u001b[0mft_images\u001b[0m\u001b[0;34m,\u001b[0m\u001b[0mamps\u001b[0m\u001b[0;34m,\u001b[0m\u001b[0mphs\u001b[0m\u001b[0;34m)\u001b[0m \u001b[0;32min\u001b[0m \u001b[0menumerate\u001b[0m\u001b[0;34m(\u001b[0m\u001b[0mvalidloader\u001b[0m\u001b[0;34m)\u001b[0m\u001b[0;34m:\u001b[0m\u001b[0;34m\u001b[0m\u001b[0;34m\u001b[0m\u001b[0m\n\u001b[0m\u001b[1;32m    418\u001b[0m         \u001b[0mft_images\u001b[0m \u001b[0;34m=\u001b[0m \u001b[0mft_images\u001b[0m\u001b[0;34m.\u001b[0m\u001b[0mto\u001b[0m\u001b[0;34m(\u001b[0m\u001b[0mdevice\u001b[0m\u001b[0;34m)\u001b[0m\u001b[0;34m\u001b[0m\u001b[0;34m\u001b[0m\u001b[0m\n\u001b[1;32m    419\u001b[0m         \u001b[0mamps\u001b[0m \u001b[0;34m=\u001b[0m \u001b[0mamps\u001b[0m\u001b[0;34m.\u001b[0m\u001b[0mto\u001b[0m\u001b[0;34m(\u001b[0m\u001b[0mdevice\u001b[0m\u001b[0;34m)\u001b[0m\u001b[0;34m\u001b[0m\u001b[0;34m\u001b[0m\u001b[0m\n",
      "\u001b[0;32m~/anaconda3/envs/ptychnn_env3/lib/python3.9/site-packages/torch/utils/data/dataloader.py\u001b[0m in \u001b[0;36m__next__\u001b[0;34m(self)\u001b[0m\n\u001b[1;32m    519\u001b[0m             \u001b[0;32mif\u001b[0m \u001b[0mself\u001b[0m\u001b[0;34m.\u001b[0m\u001b[0m_sampler_iter\u001b[0m \u001b[0;32mis\u001b[0m \u001b[0;32mNone\u001b[0m\u001b[0;34m:\u001b[0m\u001b[0;34m\u001b[0m\u001b[0;34m\u001b[0m\u001b[0m\n\u001b[1;32m    520\u001b[0m                 \u001b[0mself\u001b[0m\u001b[0;34m.\u001b[0m\u001b[0m_reset\u001b[0m\u001b[0;34m(\u001b[0m\u001b[0;34m)\u001b[0m\u001b[0;34m\u001b[0m\u001b[0;34m\u001b[0m\u001b[0m\n\u001b[0;32m--> 521\u001b[0;31m             \u001b[0mdata\u001b[0m \u001b[0;34m=\u001b[0m \u001b[0mself\u001b[0m\u001b[0;34m.\u001b[0m\u001b[0m_next_data\u001b[0m\u001b[0;34m(\u001b[0m\u001b[0;34m)\u001b[0m\u001b[0;34m\u001b[0m\u001b[0;34m\u001b[0m\u001b[0m\n\u001b[0m\u001b[1;32m    522\u001b[0m             \u001b[0mself\u001b[0m\u001b[0;34m.\u001b[0m\u001b[0m_num_yielded\u001b[0m \u001b[0;34m+=\u001b[0m \u001b[0;36m1\u001b[0m\u001b[0;34m\u001b[0m\u001b[0;34m\u001b[0m\u001b[0m\n\u001b[1;32m    523\u001b[0m             \u001b[0;32mif\u001b[0m \u001b[0mself\u001b[0m\u001b[0;34m.\u001b[0m\u001b[0m_dataset_kind\u001b[0m \u001b[0;34m==\u001b[0m \u001b[0m_DatasetKind\u001b[0m\u001b[0;34m.\u001b[0m\u001b[0mIterable\u001b[0m \u001b[0;32mand\u001b[0m\u001b[0;31m \u001b[0m\u001b[0;31m\\\u001b[0m\u001b[0;34m\u001b[0m\u001b[0;34m\u001b[0m\u001b[0m\n",
      "\u001b[0;32m~/anaconda3/envs/ptychnn_env3/lib/python3.9/site-packages/torch/utils/data/dataloader.py\u001b[0m in \u001b[0;36m_next_data\u001b[0;34m(self)\u001b[0m\n\u001b[1;32m   1184\u001b[0m \u001b[0;34m\u001b[0m\u001b[0m\n\u001b[1;32m   1185\u001b[0m             \u001b[0;32massert\u001b[0m \u001b[0;32mnot\u001b[0m \u001b[0mself\u001b[0m\u001b[0;34m.\u001b[0m\u001b[0m_shutdown\u001b[0m \u001b[0;32mand\u001b[0m \u001b[0mself\u001b[0m\u001b[0;34m.\u001b[0m\u001b[0m_tasks_outstanding\u001b[0m \u001b[0;34m>\u001b[0m \u001b[0;36m0\u001b[0m\u001b[0;34m\u001b[0m\u001b[0;34m\u001b[0m\u001b[0m\n\u001b[0;32m-> 1186\u001b[0;31m             \u001b[0midx\u001b[0m\u001b[0;34m,\u001b[0m \u001b[0mdata\u001b[0m \u001b[0;34m=\u001b[0m \u001b[0mself\u001b[0m\u001b[0;34m.\u001b[0m\u001b[0m_get_data\u001b[0m\u001b[0;34m(\u001b[0m\u001b[0;34m)\u001b[0m\u001b[0;34m\u001b[0m\u001b[0;34m\u001b[0m\u001b[0m\n\u001b[0m\u001b[1;32m   1187\u001b[0m             \u001b[0mself\u001b[0m\u001b[0;34m.\u001b[0m\u001b[0m_tasks_outstanding\u001b[0m \u001b[0;34m-=\u001b[0m \u001b[0;36m1\u001b[0m\u001b[0;34m\u001b[0m\u001b[0;34m\u001b[0m\u001b[0m\n\u001b[1;32m   1188\u001b[0m             \u001b[0;32mif\u001b[0m \u001b[0mself\u001b[0m\u001b[0;34m.\u001b[0m\u001b[0m_dataset_kind\u001b[0m \u001b[0;34m==\u001b[0m \u001b[0m_DatasetKind\u001b[0m\u001b[0;34m.\u001b[0m\u001b[0mIterable\u001b[0m\u001b[0;34m:\u001b[0m\u001b[0;34m\u001b[0m\u001b[0;34m\u001b[0m\u001b[0m\n",
      "\u001b[0;32m~/anaconda3/envs/ptychnn_env3/lib/python3.9/site-packages/torch/utils/data/dataloader.py\u001b[0m in \u001b[0;36m_get_data\u001b[0;34m(self)\u001b[0m\n\u001b[1;32m   1140\u001b[0m         \u001b[0;32melif\u001b[0m \u001b[0mself\u001b[0m\u001b[0;34m.\u001b[0m\u001b[0m_pin_memory\u001b[0m\u001b[0;34m:\u001b[0m\u001b[0;34m\u001b[0m\u001b[0;34m\u001b[0m\u001b[0m\n\u001b[1;32m   1141\u001b[0m             \u001b[0;32mwhile\u001b[0m \u001b[0mself\u001b[0m\u001b[0;34m.\u001b[0m\u001b[0m_pin_memory_thread\u001b[0m\u001b[0;34m.\u001b[0m\u001b[0mis_alive\u001b[0m\u001b[0;34m(\u001b[0m\u001b[0;34m)\u001b[0m\u001b[0;34m:\u001b[0m\u001b[0;34m\u001b[0m\u001b[0;34m\u001b[0m\u001b[0m\n\u001b[0;32m-> 1142\u001b[0;31m                 \u001b[0msuccess\u001b[0m\u001b[0;34m,\u001b[0m \u001b[0mdata\u001b[0m \u001b[0;34m=\u001b[0m \u001b[0mself\u001b[0m\u001b[0;34m.\u001b[0m\u001b[0m_try_get_data\u001b[0m\u001b[0;34m(\u001b[0m\u001b[0;34m)\u001b[0m\u001b[0;34m\u001b[0m\u001b[0;34m\u001b[0m\u001b[0m\n\u001b[0m\u001b[1;32m   1143\u001b[0m                 \u001b[0;32mif\u001b[0m \u001b[0msuccess\u001b[0m\u001b[0;34m:\u001b[0m\u001b[0;34m\u001b[0m\u001b[0;34m\u001b[0m\u001b[0m\n\u001b[1;32m   1144\u001b[0m                     \u001b[0;32mreturn\u001b[0m \u001b[0mdata\u001b[0m\u001b[0;34m\u001b[0m\u001b[0;34m\u001b[0m\u001b[0m\n",
      "\u001b[0;32m~/anaconda3/envs/ptychnn_env3/lib/python3.9/site-packages/torch/utils/data/dataloader.py\u001b[0m in \u001b[0;36m_try_get_data\u001b[0;34m(self, timeout)\u001b[0m\n\u001b[1;32m    988\u001b[0m         \u001b[0;31m#   (bool: whether successfully get data, any: data if successful else None)\u001b[0m\u001b[0;34m\u001b[0m\u001b[0;34m\u001b[0m\u001b[0;34m\u001b[0m\u001b[0m\n\u001b[1;32m    989\u001b[0m         \u001b[0;32mtry\u001b[0m\u001b[0;34m:\u001b[0m\u001b[0;34m\u001b[0m\u001b[0;34m\u001b[0m\u001b[0m\n\u001b[0;32m--> 990\u001b[0;31m             \u001b[0mdata\u001b[0m \u001b[0;34m=\u001b[0m \u001b[0mself\u001b[0m\u001b[0;34m.\u001b[0m\u001b[0m_data_queue\u001b[0m\u001b[0;34m.\u001b[0m\u001b[0mget\u001b[0m\u001b[0;34m(\u001b[0m\u001b[0mtimeout\u001b[0m\u001b[0;34m=\u001b[0m\u001b[0mtimeout\u001b[0m\u001b[0;34m)\u001b[0m\u001b[0;34m\u001b[0m\u001b[0;34m\u001b[0m\u001b[0m\n\u001b[0m\u001b[1;32m    991\u001b[0m             \u001b[0;32mreturn\u001b[0m \u001b[0;34m(\u001b[0m\u001b[0;32mTrue\u001b[0m\u001b[0;34m,\u001b[0m \u001b[0mdata\u001b[0m\u001b[0;34m)\u001b[0m\u001b[0;34m\u001b[0m\u001b[0;34m\u001b[0m\u001b[0m\n\u001b[1;32m    992\u001b[0m         \u001b[0;32mexcept\u001b[0m \u001b[0mException\u001b[0m \u001b[0;32mas\u001b[0m \u001b[0me\u001b[0m\u001b[0;34m:\u001b[0m\u001b[0;34m\u001b[0m\u001b[0;34m\u001b[0m\u001b[0m\n",
      "\u001b[0;32m~/anaconda3/envs/ptychnn_env3/lib/python3.9/queue.py\u001b[0m in \u001b[0;36mget\u001b[0;34m(self, block, timeout)\u001b[0m\n\u001b[1;32m    178\u001b[0m                     \u001b[0;32mif\u001b[0m \u001b[0mremaining\u001b[0m \u001b[0;34m<=\u001b[0m \u001b[0;36m0.0\u001b[0m\u001b[0;34m:\u001b[0m\u001b[0;34m\u001b[0m\u001b[0;34m\u001b[0m\u001b[0m\n\u001b[1;32m    179\u001b[0m                         \u001b[0;32mraise\u001b[0m \u001b[0mEmpty\u001b[0m\u001b[0;34m\u001b[0m\u001b[0;34m\u001b[0m\u001b[0m\n\u001b[0;32m--> 180\u001b[0;31m                     \u001b[0mself\u001b[0m\u001b[0;34m.\u001b[0m\u001b[0mnot_empty\u001b[0m\u001b[0;34m.\u001b[0m\u001b[0mwait\u001b[0m\u001b[0;34m(\u001b[0m\u001b[0mremaining\u001b[0m\u001b[0;34m)\u001b[0m\u001b[0;34m\u001b[0m\u001b[0;34m\u001b[0m\u001b[0m\n\u001b[0m\u001b[1;32m    181\u001b[0m             \u001b[0mitem\u001b[0m \u001b[0;34m=\u001b[0m \u001b[0mself\u001b[0m\u001b[0;34m.\u001b[0m\u001b[0m_get\u001b[0m\u001b[0;34m(\u001b[0m\u001b[0;34m)\u001b[0m\u001b[0;34m\u001b[0m\u001b[0;34m\u001b[0m\u001b[0m\n\u001b[1;32m    182\u001b[0m             \u001b[0mself\u001b[0m\u001b[0;34m.\u001b[0m\u001b[0mnot_full\u001b[0m\u001b[0;34m.\u001b[0m\u001b[0mnotify\u001b[0m\u001b[0;34m(\u001b[0m\u001b[0;34m)\u001b[0m\u001b[0;34m\u001b[0m\u001b[0;34m\u001b[0m\u001b[0m\n",
      "\u001b[0;32m~/anaconda3/envs/ptychnn_env3/lib/python3.9/threading.py\u001b[0m in \u001b[0;36mwait\u001b[0;34m(self, timeout)\u001b[0m\n\u001b[1;32m    314\u001b[0m             \u001b[0;32melse\u001b[0m\u001b[0;34m:\u001b[0m\u001b[0;34m\u001b[0m\u001b[0;34m\u001b[0m\u001b[0m\n\u001b[1;32m    315\u001b[0m                 \u001b[0;32mif\u001b[0m \u001b[0mtimeout\u001b[0m \u001b[0;34m>\u001b[0m \u001b[0;36m0\u001b[0m\u001b[0;34m:\u001b[0m\u001b[0;34m\u001b[0m\u001b[0;34m\u001b[0m\u001b[0m\n\u001b[0;32m--> 316\u001b[0;31m                     \u001b[0mgotit\u001b[0m \u001b[0;34m=\u001b[0m \u001b[0mwaiter\u001b[0m\u001b[0;34m.\u001b[0m\u001b[0macquire\u001b[0m\u001b[0;34m(\u001b[0m\u001b[0;32mTrue\u001b[0m\u001b[0;34m,\u001b[0m \u001b[0mtimeout\u001b[0m\u001b[0;34m)\u001b[0m\u001b[0;34m\u001b[0m\u001b[0;34m\u001b[0m\u001b[0m\n\u001b[0m\u001b[1;32m    317\u001b[0m                 \u001b[0;32melse\u001b[0m\u001b[0;34m:\u001b[0m\u001b[0;34m\u001b[0m\u001b[0;34m\u001b[0m\u001b[0m\n\u001b[1;32m    318\u001b[0m                     \u001b[0mgotit\u001b[0m \u001b[0;34m=\u001b[0m \u001b[0mwaiter\u001b[0m\u001b[0;34m.\u001b[0m\u001b[0macquire\u001b[0m\u001b[0;34m(\u001b[0m\u001b[0;32mFalse\u001b[0m\u001b[0;34m)\u001b[0m\u001b[0;34m\u001b[0m\u001b[0;34m\u001b[0m\u001b[0m\n",
      "\u001b[0;31mKeyboardInterrupt\u001b[0m: "
     ]
    }
   ],
   "source": [
    "train_ptychonn(data_path, start_scan, end_scan,\n",
    "                   train_lines=0.85, val_lines=0.15, epochs=60, gpu_select='1', batch_size=64,\n",
    "                   load_model_scan=-1, save_model_scan=-1, ngpus=1, lr=1e-3, height=128, width=128,\n",
    "                   mean_phsqr=0.02, verbose=False)"
   ]
  },
  {
   "cell_type": "code",
   "execution_count": null,
   "id": "f353bd7f-d009-4bf7-a480-a0b72d4130a7",
   "metadata": {},
   "outputs": [],
   "source": []
  },
  {
   "cell_type": "code",
   "execution_count": 4,
   "id": "c2b4dc89-5fb9-4b4a-a557-679e30fa7469",
   "metadata": {},
   "outputs": [],
   "source": [
    "data_path = '/projects/hp-ptycho/wjudge/ptychonn/scan_dataml/'\n",
    "pred_scan = 204\n",
    "network_scan = 206"
   ]
  },
  {
   "cell_type": "code",
   "execution_count": 5,
   "id": "64807e0c-423d-4245-a86f-32763288b050",
   "metadata": {},
   "outputs": [
    {
     "name": "stderr",
     "output_type": "stream",
     "text": [
      "                                                                                                                                                   \r"
     ]
    }
   ],
   "source": [
    "predict_ptychonn(data_path, pred_scan, network_scan, ngpus=1, gpu_select='1', batch_size=64, height=128, width=128, verbose=False)"
   ]
  }
 ],
 "metadata": {
  "kernelspec": {
   "display_name": "ptychnn_env3",
   "language": "python",
   "name": "ptychnn_env3"
  },
  "language_info": {
   "codemirror_mode": {
    "name": "ipython",
    "version": 3
   },
   "file_extension": ".py",
   "mimetype": "text/x-python",
   "name": "python",
   "nbconvert_exporter": "python",
   "pygments_lexer": "ipython3",
   "version": "3.9.0"
  }
 },
 "nbformat": 4,
 "nbformat_minor": 5
}
